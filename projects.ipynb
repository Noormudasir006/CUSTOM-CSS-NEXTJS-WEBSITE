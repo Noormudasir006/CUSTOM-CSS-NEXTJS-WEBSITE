{
  "nbformat": 4,
  "nbformat_minor": 0,
  "metadata": {
    "colab": {
      "provenance": [],
      "authorship_tag": "ABX9TyMkA6+2TPsQwPqoJX3pPTpm",
      "include_colab_link": true
    },
    "kernelspec": {
      "name": "python3",
      "display_name": "Python 3"
    },
    "language_info": {
      "name": "python"
    }
  },
  "cells": [
    {
      "cell_type": "markdown",
      "metadata": {
        "id": "view-in-github",
        "colab_type": "text"
      },
      "source": [
        "<a href=\"https://colab.research.google.com/github/Noormudasir006/CUSTOM-CSS-NEXTJS-WEBSITE/blob/master/projects.ipynb\" target=\"_parent\"><img src=\"https://colab.research.google.com/assets/colab-badge.svg\" alt=\"Open In Colab\"/></a>"
      ]
    },
    {
      "cell_type": "markdown",
      "source": [
        "python projects\n",
        "\n",
        "madlib_game\n"
      ],
      "metadata": {
        "id": "xB-x6k3ZygCi"
      }
    },
    {
      "cell_type": "code",
      "execution_count": null,
      "metadata": {
        "colab": {
          "base_uri": "https://localhost:8080/"
        },
        "id": "8sLQn3bXybRt",
        "outputId": "3cd20866-2c4d-4759-8d6e-6f4dc0e22f37"
      },
      "outputs": [
        {
          "output_type": "stream",
          "name": "stdout",
          "text": [
            "Enter a place name: supermarket\n",
            "Enter an adjective: shiny\n",
            "Enter a noun: blanket\n",
            "Enter another adjective: ballon-like\n",
            "Enter an animal: catt\n",
            "Enter a verb: dancing\n",
            "Enter one more adjective: horrible\n",
            "\n",
            "Here is your story:\n",
            "Today, I went to the supermarket to buy a shiny blanket. On the way, I saw a ballon-like catt that was dancing down the street. It was the most horrible day ever.\n"
          ]
        }
      ],
      "source": [
        "place = input(\"Enter a place name: \")\n",
        "adjective1 = input(\"Enter an adjective: \")\n",
        "noun = input(\"Enter a noun: \")\n",
        "adjective2 = input(\"Enter another adjective: \")\n",
        "animal = input(\"Enter an animal: \")\n",
        "verb = input(\"Enter a verb: \")\n",
        "adjective3 = input(\"Enter one more adjective: \")\n",
        "\n",
        "print(\"\\nHere is your story:\")\n",
        "print(f\"Today, I went to the {place} to buy a {adjective1} {noun}. On the way, I saw a {adjective2} {animal} \"\n",
        "      f\"that was {verb} down the street. It was the most {adjective3} day ever.\")\n",
        "\n"
      ]
    }
  ]
}